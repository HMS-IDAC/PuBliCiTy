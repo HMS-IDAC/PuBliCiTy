{
 "cells": [
  {
   "cell_type": "markdown",
   "metadata": {},
   "source": [
    "# voxelclassifier tutorial\n",
    "\n",
    "This notebook illustrates how to use voxelclassifier to highlight cell contours by training a model with 'contour' versus 'non-contour' labels."
   ]
  },
  {
   "cell_type": "markdown",
   "metadata": {},
   "source": [
    "---\n",
    "We start with some general imports."
   ]
  },
  {
   "cell_type": "code",
   "execution_count": null,
   "metadata": {},
   "outputs": [],
   "source": [
    "import numpy as np\n",
    "import matplotlib.pyplot as plt\n",
    "from gpfunctions import generateSynthCellsImage3D, imshow, imshowlist, \\\n",
    "    imerode3, imdilate3, tifwrite, im2double, tifread, stack2list, createFolderIfNonExistent\n",
    "%matplotlib inline"
   ]
  },
  {
   "cell_type": "markdown",
   "metadata": {},
   "source": [
    "---\n",
    "We will generate some synthetic data: 5 [image, label] pairs for training, and 1 [image, label] pair for testing. Notice that the labels are 'class balanced', i.e. in each image the number of contour pixels is roughly the same as the number of non-contour pixels."
   ]
  },
  {
   "cell_type": "code",
   "execution_count": null,
   "metadata": {},
   "outputs": [],
   "source": [
    "train_folder = 'DataForVC/Train'\n",
    "test_folder = 'DataForVC/Test'\n",
    "createFolderIfNonExistent(train_folder)\n",
    "createFolderIfNonExistent(test_folder)\n",
    "\n",
    "def gen_img_lbl_pair():\n",
    "    I, L = generateSynthCellsImage3D(im_size=80, rad_min=10, rad_max=11)\n",
    "\n",
    "    cells = imdilate3(L > 0, 1)\n",
    "    interior = imerode3(cells, 2)\n",
    "    contours = np.logical_and(cells, np.logical_not(interior))\n",
    "    not_contours = np.logical_not(contours)\n",
    "\n",
    "    c_cont = np.sum(contours)\n",
    "\n",
    "    f = c_cont/np.sum(not_contours)\n",
    "    not_contours = np.logical_and(not_contours, np.random.rand(I.shape[0], I.shape[1], I.shape[2]) < f)\n",
    "    \n",
    "    print('n pixels class 0:', np.sum(contours), '| npixels class 1:', np.sum(not_contours))\n",
    "\n",
    "    L[:] = 0\n",
    "    L[contours] = 1\n",
    "    L[not_contours] = 2\n",
    "    \n",
    "    return I, L\n",
    "    \n",
    "for idx in range(10):\n",
    "    print('train image', idx)\n",
    "    \n",
    "    I, L = gen_img_lbl_pair()\n",
    "    tifwrite(np.uint8(255*I), '%s/I%05d_Img.tif' % (train_folder, idx))\n",
    "    tifwrite(L, '%s/I%05d_Ant.tif' % (train_folder, idx))\n",
    "\n",
    "for idx in range(1):\n",
    "    print('test iamge', idx)\n",
    "    \n",
    "    I, L = gen_img_lbl_pair()\n",
    "    tifwrite(np.uint8(255*I), '%s/I%05d_Img.tif' % (test_folder, idx))\n",
    "    tifwrite(L, '%s/I%05d_Ant.tif' % (test_folder, idx))"
   ]
  },
  {
   "cell_type": "markdown",
   "metadata": {},
   "source": [
    "---\n",
    "Let's take a look at the test pair. Since the images are 3D, we'll just inspect the middle plane."
   ]
  },
  {
   "cell_type": "code",
   "execution_count": null,
   "metadata": {},
   "outputs": [],
   "source": [
    "I3 = tifread('%s/I%05d_Img.tif' % (test_folder, 0))\n",
    "L3 = tifread('%s/I%05d_Ant.tif' % (test_folder, 0))\n",
    "\n",
    "mid_plane = I3.shape[0]//2\n",
    "I = I3[mid_plane,:,:]\n",
    "L = L3[mid_plane,:,:]\n",
    "\n",
    "plt.figure(figsize=(10, 5))\n",
    "\n",
    "plt.subplot(1,2,1)\n",
    "plt.imshow(I, cmap='gray'); plt.axis('off'); plt.title('image');\n",
    "\n",
    "plt.subplot(1,2,2)\n",
    "red = L == 1\n",
    "green = L == 2\n",
    "blue = np.zeros(L.shape, L.dtype)\n",
    "rgb = 255*np.stack([red, green, blue], axis=2)\n",
    "plt.imshow(rgb); plt.axis('off'); plt.title('labels (red: contour, green: non-contour)');"
   ]
  },
  {
   "cell_type": "markdown",
   "metadata": {},
   "source": [
    "---\n",
    "To train a Random Forest model via voxelclassifier we simply pass the path to the training set as well as scale parameters for derivatives and LoG filters. We expect derivatives to be sufficient, so we pass an empty list as the sigmaLoG parameter. Once the model is done training, a plot of feature importances is shown."
   ]
  },
  {
   "cell_type": "code",
   "execution_count": null,
   "metadata": {},
   "outputs": [],
   "source": [
    "import voxelclassifier as vc\n",
    "\n",
    "trainPath = 'DataForVC/Train'\n",
    "model = vc.train(trainPath,sigmaDeriv=[2,4],sigmaLoG=[])\n",
    "\n",
    "vc.plotFeatImport(model['featImport'],model['featNames'])"
   ]
  },
  {
   "cell_type": "markdown",
   "metadata": {},
   "source": [
    "---\n",
    "Let's now see how the model performs on the test image. We can ask the classifier for either class or probability map outputs. Again, since the images are 3D, we'll just inspect the middle plane."
   ]
  },
  {
   "cell_type": "code",
   "execution_count": null,
   "metadata": {},
   "outputs": [],
   "source": [
    "path = 'DataForVC/Test/I00000_Img.tif'\n",
    "I3 = im2double(tifread(path))\n",
    "\n",
    "C3 = vc.classify(I3,model,output='classes')\n",
    "P3 = vc.classify(I3,model,output='probmaps')\n",
    "\n",
    "I = I3[mid_plane,:,:]\n",
    "C = C3[mid_plane,:,:,:]\n",
    "P = P3[mid_plane,:,:,:]\n",
    "\n",
    "plt.figure(figsize=(8, 12))\n",
    "\n",
    "plt.subplot(3,2,1)\n",
    "plt.imshow(I, cmap='gray'); plt.axis('off'); plt.title('image');\n",
    "\n",
    "plt.subplot(3,2,3)\n",
    "plt.imshow(C[:,:,0], cmap='gray'); plt.axis('off'); plt.title('mask class 1');\n",
    "\n",
    "plt.subplot(3,2,4)\n",
    "plt.imshow(C[:,:,1], cmap='gray'); plt.axis('off'); plt.title('mask class 2');\n",
    "\n",
    "plt.subplot(3,2,5)\n",
    "plt.imshow(P[:,:,0], cmap='gray'); plt.axis('off'); plt.title('prob. map class 1');\n",
    "\n",
    "plt.subplot(3,2,6)\n",
    "plt.imshow(P[:,:,1], cmap='gray'); plt.axis('off'); plt.title('prob. map class 2');"
   ]
  },
  {
   "cell_type": "markdown",
   "metadata": {},
   "source": [
    "---\n",
    "We can also save the probabily map as a volume to visualize it in 3D using publicityWebApp or other software, such as Fiji."
   ]
  },
  {
   "cell_type": "code",
   "execution_count": null,
   "metadata": {},
   "outputs": [],
   "source": [
    "pm_class1 = P3[:,:,:,0]\n",
    "tifwrite(np.uint8(255*pm_class1), 'DataForVC/Test/I00000_Prd.tif')"
   ]
  }
 ],
 "metadata": {
  "kernelspec": {
   "display_name": "publicity",
   "language": "python",
   "name": "publicity"
  },
  "language_info": {
   "codemirror_mode": {
    "name": "ipython",
    "version": 3
   },
   "file_extension": ".py",
   "mimetype": "text/x-python",
   "name": "python",
   "nbconvert_exporter": "python",
   "pygments_lexer": "ipython3",
   "version": "3.6.12"
  }
 },
 "nbformat": 4,
 "nbformat_minor": 4
}
