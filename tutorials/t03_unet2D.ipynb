{
 "cells": [
  {
   "cell_type": "markdown",
   "metadata": {},
   "source": [
    "# unet2D tutorial notebook\n",
    "\n",
    "This notebook is part of the unet2D tutorial. Please refer to t03_unet2D.pdf for the full tutorial."
   ]
  },
  {
   "cell_type": "markdown",
   "metadata": {},
   "source": [
    "---\n",
    "The following code cell generates 400x400 images for the unet2D tutorial. These are similar to the images generated for the pixelclassifier tutorial (see t01_pixelclassifier.ipynb)."
   ]
  },
  {
   "cell_type": "code",
   "execution_count": null,
   "metadata": {},
   "outputs": [],
   "source": [
    "# -----\n",
    "# TRAIN/TEST GENERATION CELL\n",
    "# -----\n",
    "\n",
    "import numpy as np\n",
    "import matplotlib.pyplot as plt\n",
    "from gpfunctions import generateSynthCellsImage, imshow, imshowlist, \\\n",
    "    imerode, imdilate, tifwrite, im2double, tifread, createFolderIfNonExistent\n",
    "%matplotlib inline\n",
    "\n",
    "train_folder = 'DataForUNet2D/Train'\n",
    "test_folder = 'DataForUNet2D/Test'\n",
    "createFolderIfNonExistent(train_folder)\n",
    "createFolderIfNonExistent(test_folder)\n",
    "\n",
    "def gen_img_lbl_pair():\n",
    "    I, L = generateSynthCellsImage(im_size=400, n_circs=20)\n",
    "\n",
    "    cells = imdilate(L > 0, 1)\n",
    "    interior = imerode(cells, 2)\n",
    "    contours = np.logical_and(cells, np.logical_not(interior))\n",
    "    not_contours = np.logical_not(contours)\n",
    "\n",
    "    c_cont = np.sum(contours)\n",
    "\n",
    "    f = c_cont/np.sum(not_contours)\n",
    "    not_contours = np.logical_and(not_contours, np.random.rand(I.shape[0], I.shape[1]) < f)\n",
    "    \n",
    "    print('n pixels class 0:', np.sum(contours), '| npixels class 1:', np.sum(not_contours))\n",
    "\n",
    "    L[:] = 0\n",
    "    L[contours] = 1\n",
    "    L[not_contours] = 2\n",
    "    \n",
    "    return I, L\n",
    "    \n",
    "for idx in range(20):\n",
    "    print('train image', idx)\n",
    "    \n",
    "    I, L = gen_img_lbl_pair()\n",
    "    tifwrite(np.uint8(255*I), '%s/I%05d_Img.tif' % (train_folder, idx))\n",
    "    tifwrite(L, '%s/I%05d_Ant.tif' % (train_folder, idx))\n",
    "\n",
    "for idx in range(5):\n",
    "    print('test image', idx)\n",
    "    \n",
    "    I, L = gen_img_lbl_pair()\n",
    "    tifwrite(np.uint8(255*I), '%s/I%05d_Img.tif' % (test_folder, idx))\n",
    "    tifwrite(L, '%s/I%05d_Ant.tif' % (test_folder, idx))"
   ]
  },
  {
   "cell_type": "markdown",
   "metadata": {},
   "source": [
    "---\n",
    "The following code cell splits the images of the training set above into tiles of 60x60. unet2D.py expects the training set to contain [image, label] pairs of this size."
   ]
  },
  {
   "cell_type": "code",
   "execution_count": null,
   "metadata": {},
   "outputs": [],
   "source": [
    "# -----\n",
    "# TILING CELL\n",
    "# -----\n",
    "\n",
    "from gpfunctions import splitIntoTiles2D\n",
    "\n",
    "tiling_folder = 'DataForUNet2D/Train_60'\n",
    "createFolderIfNonExistent(tiling_folder)\n",
    "\n",
    "splitIntoTiles2D(train_folder, tiling_folder)"
   ]
  },
  {
   "cell_type": "markdown",
   "metadata": {},
   "source": [
    "---\n",
    "The following code cell generates some images for unet2D.py in 'deployment' mode."
   ]
  },
  {
   "cell_type": "code",
   "execution_count": null,
   "metadata": {},
   "outputs": [],
   "source": [
    "# -----\n",
    "# DEPLOY GENERATION CELL\n",
    "# -----\n",
    "\n",
    "deploy_folder_in = 'DataForUNet2D/Deploy_In'\n",
    "deploy_folder_out = 'DataForUNet2D/Deploy_Out'\n",
    "createFolderIfNonExistent(deploy_folder_in)\n",
    "createFolderIfNonExistent(deploy_folder_out)\n",
    "\n",
    "for idx in range(5):\n",
    "    print('deploy image', idx)\n",
    "    \n",
    "    I, _ = gen_img_lbl_pair()\n",
    "    tifwrite(np.uint8(255*I), '%s/I%05d_Img.tif' % (deploy_folder_in, idx))"
   ]
  }
 ],
 "metadata": {
  "kernelspec": {
   "display_name": "publicity",
   "language": "python",
   "name": "publicity"
  },
  "language_info": {
   "codemirror_mode": {
    "name": "ipython",
    "version": 3
   },
   "file_extension": ".py",
   "mimetype": "text/x-python",
   "name": "python",
   "nbconvert_exporter": "python",
   "pygments_lexer": "ipython3",
   "version": "3.6.12"
  }
 },
 "nbformat": 4,
 "nbformat_minor": 4
}
