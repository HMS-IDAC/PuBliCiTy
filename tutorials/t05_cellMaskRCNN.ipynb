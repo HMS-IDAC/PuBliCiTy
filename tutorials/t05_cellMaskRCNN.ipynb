{
 "cells": [
  {
   "cell_type": "markdown",
   "metadata": {},
   "source": [
    "# cellMaskRCNN tutorial notebook\n",
    "\n",
    "This notebook is part of the cellMaskRCNN tutorial. Please refer to t05_cellMaskRCNN.pdf for the full tutorial."
   ]
  },
  {
   "cell_type": "markdown",
   "metadata": {},
   "source": [
    "---\n",
    "The following code cell generates 100 images of size 800x800 -- and corresponding labels -- for training and testing of a Mask-RCNN model."
   ]
  },
  {
   "cell_type": "code",
   "execution_count": null,
   "metadata": {},
   "outputs": [],
   "source": [
    "# -----\n",
    "# TRAIN/TEST GENERATION CELL\n",
    "# -----\n",
    "\n",
    "import numpy as np\n",
    "import matplotlib.pyplot as plt\n",
    "from gpfunctions import generateSynthCellsImage, tifwrite, imwrite, createFolderIfNonExistent\n",
    "\n",
    "train_and_test_folder = 'DataForCellMaskRCNN/TrainTest'\n",
    "createFolderIfNonExistent(train_and_test_folder)\n",
    "    \n",
    "for idx in range(100):\n",
    "    print('image', idx)\n",
    "    \n",
    "    I, L = generateSynthCellsImage()\n",
    "    tifwrite(np.uint16(65535*I), '%s/I%05d.tif' % (train_and_test_folder, idx))\n",
    "    imwrite(L, '%s/I%05d.png' % (train_and_test_folder, idx))"
   ]
  },
  {
   "cell_type": "markdown",
   "metadata": {},
   "source": [
    "---\n",
    "The following code cell generates some images for cellMaskRCNN.py in 'deployment' mode."
   ]
  },
  {
   "cell_type": "code",
   "execution_count": null,
   "metadata": {},
   "outputs": [],
   "source": [
    "# -----\n",
    "# DEPLOY GENERATION CELL\n",
    "# -----\n",
    "\n",
    "deploy_folder_in = 'DataForCellMaskRCNN/DeployIn'\n",
    "deploy_folder_out = 'DataForCellMaskRCNN/DeployOut'\n",
    "createFolderIfNonExistent(deploy_folder_in)\n",
    "createFolderIfNonExistent(deploy_folder_out)\n",
    "\n",
    "for idx in range(10):\n",
    "    print('deploy image', idx)\n",
    "    \n",
    "    I, _ = generateSynthCellsImage()\n",
    "    tifwrite(np.uint16(65535*I), '%s/I%05d.tif' % (deploy_folder_in, idx))"
   ]
  }
 ],
 "metadata": {
  "kernelspec": {
   "display_name": "publicity",
   "language": "python",
   "name": "publicity"
  },
  "language_info": {
   "codemirror_mode": {
    "name": "ipython",
    "version": 3
   },
   "file_extension": ".py",
   "mimetype": "text/x-python",
   "name": "python",
   "nbconvert_exporter": "python",
   "pygments_lexer": "ipython3",
   "version": "3.6.12"
  }
 },
 "nbformat": 4,
 "nbformat_minor": 4
}
